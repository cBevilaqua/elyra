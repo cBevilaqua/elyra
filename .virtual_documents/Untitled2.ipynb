import os
from airflow_connections_manager import AirflowConnectionsManager

print(os.getenv("AIRFLOW_API_TOKEN"))
print(os.getenv("AIRFLOW_API_URL"))

AirflowConnectionsManager.list_connections()



