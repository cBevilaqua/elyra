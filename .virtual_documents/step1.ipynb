import json
from elyra.airflow.secrets_manager import AirflowSecretsManager

# AirflowSecretsManager.create_generic_secret("my_generic_secret", json.dumps({'key': 123}))
# AirflowSecretsManager.list_secrets()
# secret = json.loads(AirflowSecretsManager.get_secret("my_generic_secret"))
# print(secret['key'])
#AirflowSecretsManager.create_generic_secret("my_generic_secret_2", json.dumps({'key': 456}))
AirflowSecretsManager.get_secret("my_generic_secret_2")



# AirflowSecretsManager.get_secret("my_generic_secret")



