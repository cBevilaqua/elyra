import requests
import json
from elyra.airflow.secrets_manager import AirflowSecretsManager

# AirflowSecretsManager.create_generic_secret("my_generic_secret", json.dumps({'key': 123}))
# AirflowSecretsManager.list_secrets()
# secret = json.loads(AirflowSecretsManager.get_secret("my_generic_secret"))
# print(secret['key'])
#AirflowSecretsManager.create_generic_secret("my_generic_secret_2", json.dumps({'key': 456}))


#AirflowSecretsManager.create_generic_secret("test_cristiano_2", json.dumps({'apiKey': 456}))
#AirflowSecretsManager.create_generic_secret("test_cristiano_4", json.dumps({'apiKey': 'abcdefg'}))
"""
generic_db_secret = {
    "host": "127.0.0.1",
    "port": 5432,
    "database": "zoox_eye",
    "username": "admin",
    "pwd": "admin123"
}

AirflowSecretsManager.create_generic_secret("generic_db_secret_3", json.dumps(generic_db_secret))
"""

#AirflowSecretsManager.list_secrets()
#AirflowSecretsManager.get_secret("test_cristiano")
#AirflowSecretsManager.get_secret("test_cristiano_2")
#AirflowSecretsManager.get_secret("test_cristiano_3")
#AirflowSecretsManager.get_secret("db_secret")
AirflowSecretsManager.get_secret("generic_db_secret_3")
#val = AirflowSecretsManager.get_secret("test_cristiano_4")
#print(val)
#requests.get(f"http://localhost:9500?test={json.loads(val)['apiKey']}")



# AirflowSecretsManager.get_secret("my_generic_secret")



