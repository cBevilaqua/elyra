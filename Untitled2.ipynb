{
 "cells": [
  {
   "cell_type": "code",
   "execution_count": 6,
   "id": "2ffa4916-0897-4289-8e99-b97c2274f0b3",
   "metadata": {},
   "outputs": [
    {
     "name": "stdout",
     "output_type": "stream",
     "text": [
      "Basic YWRtaW46YWRtaW4=\n",
      "http://localhost:8080/api/v1\n"
     ]
    },
    {
     "data": {
      "text/plain": [
       "[{'connection_id': 'test_cristiano_4', 'value': '*****'},\n",
       " {'connection_id': 'db_secret', 'value': '*****'},\n",
       " {'connection_id': 'generic_db_secret', 'value': '*****'},\n",
       " {'connection_id': 'generic_db_secret_2', 'value': '*****'},\n",
       " {'connection_id': 'generic_db_secret_3', 'value': '*****'},\n",
       " {'connection_id': 'my_generic', 'value': '*****'}]"
      ]
     },
     "execution_count": 6,
     "metadata": {},
     "output_type": "execute_result"
    }
   ],
   "source": [
    "import os\n",
    "from airflow_connections_manager import AirflowConnectionsManager\n",
    "\n",
    "print(os.getenv(\"AIRFLOW_API_TOKEN\"))\n",
    "print(os.getenv(\"AIRFLOW_API_URL\"))\n",
    "\n",
    "AirflowConnectionsManager.list_connections()"
   ]
  },
  {
   "cell_type": "code",
   "execution_count": null,
   "id": "6a97244f-0eac-41aa-a664-3fe73d860e8f",
   "metadata": {},
   "outputs": [],
   "source": []
  }
 ],
 "metadata": {
  "kernelspec": {
   "display_name": "Python 3 (ipykernel)",
   "language": "python",
   "name": "python3"
  },
  "language_info": {
   "codemirror_mode": {
    "name": "ipython",
    "version": 3
   },
   "file_extension": ".py",
   "mimetype": "text/x-python",
   "name": "python",
   "nbconvert_exporter": "python",
   "pygments_lexer": "ipython3",
   "version": "3.7.13"
  }
 },
 "nbformat": 4,
 "nbformat_minor": 5
}
