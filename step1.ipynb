{
 "cells": [
  {
   "cell_type": "code",
   "execution_count": 6,
   "id": "7dfdda03-5692-4487-be2f-8dccc82f6a44",
   "metadata": {
    "papermill": {
     "duration": 0.030539,
     "end_time": "2022-08-18T14:27:17.638054",
     "exception": false,
     "start_time": "2022-08-18T14:27:17.607515",
     "status": "completed"
    },
    "tags": []
   },
   "outputs": [
    {
     "data": {
      "text/plain": [
       "'{\"key\": 456}'"
      ]
     },
     "execution_count": 6,
     "metadata": {},
     "output_type": "execute_result"
    }
   ],
   "source": [
    "import json\n",
    "from elyra.airflow.secrets_manager import AirflowSecretsManager\n",
    "\n",
    "# AirflowSecretsManager.create_generic_secret(\"my_generic_secret\", json.dumps({'key': 123}))\n",
    "# AirflowSecretsManager.list_secrets()\n",
    "# secret = json.loads(AirflowSecretsManager.get_secret(\"my_generic_secret\"))\n",
    "# print(secret['key'])\n",
    "#AirflowSecretsManager.create_generic_secret(\"my_generic_secret_2\", json.dumps({'key': 456}))\n",
    "AirflowSecretsManager.get_secret(\"my_generic_secret_2\")\n"
   ]
  },
  {
   "cell_type": "code",
   "execution_count": null,
   "id": "3b325e9a-f491-4769-9d70-0567b4e32791",
   "metadata": {},
   "outputs": [],
   "source": [
    "# AirflowSecretsManager.get_secret(\"my_generic_secret\")"
   ]
  },
  {
   "cell_type": "code",
   "execution_count": null,
   "id": "84f6640c-1654-45d0-9a9f-722c02fbb720",
   "metadata": {},
   "outputs": [],
   "source": []
  }
 ],
 "metadata": {
  "kernelspec": {
   "display_name": "Python 3 (ipykernel)",
   "language": "python",
   "name": "python3"
  },
  "language_info": {
   "codemirror_mode": {
    "name": "ipython",
    "version": 3
   },
   "file_extension": ".py",
   "mimetype": "text/x-python",
   "name": "python",
   "nbconvert_exporter": "python",
   "pygments_lexer": "ipython3",
   "version": "3.7.13"
  },
  "papermill": {
   "default_parameters": {},
   "duration": 3.594162,
   "end_time": "2022-08-18T14:27:17.975444",
   "environment_variables": {},
   "exception": null,
   "input_path": "/Users/cristiano/eye/elyra-zoox/step1.ipynb",
   "output_path": "/Users/cristiano/eye/elyra-zoox/step1.ipynb",
   "parameters": {},
   "start_time": "2022-08-18T14:27:14.381282",
   "version": "2.3.4"
  }
 },
 "nbformat": 4,
 "nbformat_minor": 5
}
