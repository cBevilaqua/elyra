{
 "cells": [
  {
   "cell_type": "code",
   "execution_count": 1,
   "id": "7dfdda03-5692-4487-be2f-8dccc82f6a44",
   "metadata": {
    "execution": {
     "iopub.execute_input": "2022-08-18T14:27:17.615020Z",
     "iopub.status.busy": "2022-08-18T14:27:17.614231Z",
     "iopub.status.idle": "2022-08-18T14:27:17.633678Z",
     "shell.execute_reply": "2022-08-18T14:27:17.630461Z"
    },
    "papermill": {
     "duration": 0.030539,
     "end_time": "2022-08-18T14:27:17.638054",
     "exception": false,
     "start_time": "2022-08-18T14:27:17.607515",
     "status": "completed"
    },
    "tags": []
   },
   "outputs": [],
   "source": [
    "def step1():\n",
    "    return \"step 1\""
   ]
  }
 ],
 "metadata": {
  "kernelspec": {
   "display_name": "Python 3 (ipykernel)",
   "language": "python",
   "name": "python3"
  },
  "language_info": {
   "codemirror_mode": {
    "name": "ipython",
    "version": 3
   },
   "file_extension": ".py",
   "mimetype": "text/x-python",
   "name": "python",
   "nbconvert_exporter": "python",
   "pygments_lexer": "ipython3",
   "version": "3.7.13"
  },
  "papermill": {
   "default_parameters": {},
   "duration": 3.594162,
   "end_time": "2022-08-18T14:27:17.975444",
   "environment_variables": {},
   "exception": null,
   "input_path": "/Users/cristiano/eye/elyra-zoox/step1.ipynb",
   "output_path": "/Users/cristiano/eye/elyra-zoox/step1.ipynb",
   "parameters": {},
   "start_time": "2022-08-18T14:27:14.381282",
   "version": "2.3.4"
  }
 },
 "nbformat": 4,
 "nbformat_minor": 5
}