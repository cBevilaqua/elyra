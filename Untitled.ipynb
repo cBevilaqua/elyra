{
 "cells": [
  {
   "cell_type": "code",
   "execution_count": null,
   "id": "2550f4ea-7083-44fa-83a1-63ad317b4762",
   "metadata": {},
   "outputs": [],
   "source": [
    "print(\"test\")"
   ]
  },
  {
   "cell_type": "code",
   "execution_count": null,
   "id": "931de52e-4f59-4220-b423-373b2e2b403b",
   "metadata": {},
   "outputs": [],
   "source": []
  }
 ],
 "metadata": {
  "kernelspec": {
   "display_name": "",
   "name": ""
  },
  "language_info": {
   "name": ""
  }
 },
 "nbformat": 4,
 "nbformat_minor": 5
}
